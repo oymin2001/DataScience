{
  "cells": [
    {
      "cell_type": "markdown",
      "metadata": {
        "id": "view-in-github",
        "colab_type": "text"
      },
      "source": [
        "<a href=\"https://colab.research.google.com/github/oymin2001/DataScience/blob/main/classifier_SGD_Solver.ipynb\" target=\"_parent\"><img src=\"https://colab.research.google.com/assets/colab-badge.svg\" alt=\"Open In Colab\"/></a>"
      ]
    },
    {
      "cell_type": "code",
      "execution_count": null,
      "metadata": {
        "id": "Q7iQAoM7w_Xx"
      },
      "outputs": [],
      "source": [
        "import numpy as np\n",
        "import itertools\n",
        "import matplotlib.pyplot as plt\n",
        "import seaborn as sns\n",
        "import warnings\n",
        "from sklearn.datasets import load_digits\n",
        "from sklearn.model_selection import train_test_split\n",
        "\n",
        "%matplotlib inline\n",
        "warnings.filterwarnings(\"ignore\")"
      ]
    },
    {
      "cell_type": "code",
      "execution_count": null,
      "metadata": {
        "colab": {
          "base_uri": "https://localhost:8080/"
        },
        "id": "MFtUaKvdtaE9",
        "outputId": "7b9b8300-dbb0-417d-9174-87aa96b4e001"
      },
      "outputs": [
        {
          "output_type": "stream",
          "name": "stdout",
          "text": [
            "(502, 64)\n"
          ]
        }
      ],
      "source": [
        "X,y = load_digits(return_X_y=True)\n",
        "X_train, X_test, y_train, y_test = train_test_split(X,y,test_size=0.6,random_state=42)\n",
        "X_train, X_val, y_train, y_val = train_test_split(X_train, y_train, test_size=0.3, random_state=42)\n",
        "data = {\n",
        "    'X_train': X_train,\n",
        "    'y_train': y_train,\n",
        "    'X_val': X_val,\n",
        "    'y_val': y_val,\n",
        "    'X_test': X_test,\n",
        "    'y_test': y_test,\n",
        "}\n",
        "print(X_train.shape)"
      ]
    },
    {
      "cell_type": "code",
      "execution_count": null,
      "metadata": {
        "colab": {
          "base_uri": "https://localhost:8080/",
          "height": 425
        },
        "id": "PZceif49t0-z",
        "outputId": "54c4d623-be30-4381-b21f-61cab451331c"
      },
      "outputs": [
        {
          "output_type": "display_data",
          "data": {
            "text/plain": [
              "<Figure size 640x480 with 70 Axes>"
            ],
            "image/png": "[encoded data removed]"
          },
          "metadata": {}
        }
      ],
      "source": [
        "classes = np.unique(y_test)\n",
        "num_classes = len(classes)\n",
        "samples_per_class = 7\n",
        "for y, cls in enumerate(classes):\n",
        "    idxs = np.flatnonzero(y_train == y)\n",
        "    idxs = np.random.choice(idxs, samples_per_class, replace=False)\n",
        "    for i, idx in enumerate(idxs):\n",
        "        plt_idx = i * num_classes + y + 1\n",
        "        plt.subplot(samples_per_class, num_classes, plt_idx)\n",
        "        plt.imshow(X_train[idx].reshape(8,8).astype('uint8'))\n",
        "        plt.axis('off')\n",
        "        if i == 0:\n",
        "            plt.title(cls)\n",
        "plt.show()"
      ]
    },
    {
      "cell_type": "markdown",
      "metadata": {
        "id": "FmXEisJaxTkp"
      },
      "source": [
        "# 1. K-Nearest Neighbor"
      ]
    },
    {
      "cell_type": "code",
      "execution_count": null,
      "metadata": {
        "id": "v86G5CyDxPlb"
      },
      "outputs": [],
      "source": [
        "class KNearestNeighbor(object):\n",
        "    def __init__(self):\n",
        "        pass\n",
        "\n",
        "    def train(self, X, y):\n",
        "        self.X_train = X\n",
        "        self.y_train = y\n",
        "\n",
        "    def predict(self, X, n_neighbors=1,p=2):\n",
        "        if p==1:\n",
        "            dists = self.l1_distances(X)\n",
        "        elif p==2:\n",
        "            dists = self.l2_distances(X)\n",
        "        else:\n",
        "            raise ValueError(\"Invalid p\")\n",
        "        return self.predict_labels(dists, n_neighbors=n_neighbors)\n",
        "\n",
        "    def l1_distances(self, X):\n",
        "        num_test = X.shape[0]\n",
        "        num_train = self.X_train.shape[0]\n",
        "        dists = np.zeros((num_test, num_train))\n",
        "        for i in range(num_test):\n",
        "            dists[i] = np.abs(X[i] - self.X_train).sum(axis=1)\n",
        "\n",
        "        return dists\n",
        "\n",
        "    def l2_distances(self,X):\n",
        "        num_test = X.shape[0]\n",
        "        num_train = self.X_train.shape[0]\n",
        "        dists = np.zeros((num_test, num_train))\n",
        "        dists = np.sqrt(np.sum(self.X_train**2, axis=1) + np.sum(X**2, axis=1).reshape(num_test,1) - 2*X.dot(self.X_train.T))\n",
        "        return dists\n",
        "\n",
        "    def predict_labels(self, dists, n_neighbors):\n",
        "        num_test = dists.shape[0]\n",
        "        y_pred = np.zeros(num_test)\n",
        "        for i in range(num_test):\n",
        "            closest_y = []\n",
        "            closest_y = self.y_train[np.argsort(dists[i,:])[:n_neighbors]]\n",
        "            val, cnt = np.unique(closest_y, return_counts=True)\n",
        "            y_pred[i] = val[np.argmax(cnt)]\n",
        "\n",
        "        return y_pred"
      ]
    },
    {
      "cell_type": "code",
      "execution_count": null,
      "metadata": {
        "colab": {
          "base_uri": "https://localhost:8080/"
        },
        "id": "D4W9dT_nza0K",
        "outputId": "5ec70e9d-d56e-4c13-dcae-c45a360b41af"
      },
      "outputs": [
        {
          "output_type": "stream",
          "name": "stdout",
          "text": [
            "BEST ACCURACY:  0.9953703703703703\n",
            "2 3\n"
          ]
        }
      ],
      "source": [
        "knn = KNearestNeighbor()\n",
        "knn.train(X_train, y_train)\n",
        "\n",
        "p_vals = [1, 2]\n",
        "n_neighbors = [1,3,5,7]\n",
        "best_score = -1\n",
        "best_p, best_n = 0, 0\n",
        "\n",
        "def get_acc(y_test, y_pred):\n",
        "    return np.mean(y_test == y_pred)\n",
        "\n",
        "\n",
        "for p, n_neighbor in itertools.product(p_vals, n_neighbors):\n",
        "    y_val_pred = knn.predict(X_val, n_neighbors = n_neighbor, p=p)\n",
        "    score = get_acc(y_val,y_val_pred)\n",
        "    if score > best_score:\n",
        "        best_score = score\n",
        "        best_p, best_n = p, n_neighbor\n",
        "\n",
        "print(\"BEST ACCURACY: \", best_score)\n",
        "print(best_p, best_n)"
      ]
    },
    {
      "cell_type": "code",
      "execution_count": null,
      "metadata": {
        "colab": {
          "base_uri": "https://localhost:8080/"
        },
        "id": "1no1pbFOQy76",
        "outputId": "de12e2b6-58ad-41c4-b201-bd19adae2a22"
      },
      "outputs": [
        {
          "output_type": "execute_result",
          "data": {
            "text/plain": [
              "0.9731232622798888"
            ]
          },
          "metadata": {},
          "execution_count": 6
        }
      ],
      "source": [
        "y_test_pred = knn.predict(X_test, n_neighbors = 3, p=2)\n",
        "get_acc(y_test, y_test_pred)"
      ]
    },
    {
      "cell_type": "markdown",
      "metadata": {
        "id": "OSFUm7ox6h0K"
      },
      "source": [
        "# 2. Linear Classifier"
      ]
    },
    {
      "cell_type": "markdown",
      "source": [
        "## optimization"
      ],
      "metadata": {
        "id": "qzTRhBDi15Yv"
      }
    },
    {
      "cell_type": "code",
      "source": [
        "class optim(object):\n",
        "    def __init__(self):\n",
        "        pass\n",
        "\n",
        "    def sgd(w, grads, config=None):\n",
        "        if config is None:\n",
        "            config = {}\n",
        "\n",
        "        config.setdefault(\"learning_rate\", 1e-2)\n",
        "        w -= config['learning_rate']*grads\n",
        "        return w, config"
      ],
      "metadata": {
        "id": "z6FI8yIn17M6"
      },
      "execution_count": null,
      "outputs": []
    },
    {
      "cell_type": "code",
      "source": [
        "class Solver(object): # SGD Solver\n",
        "    def __init__(self, model, data, **kwargs):\n",
        "        self.model = model\n",
        "        self.X_train = data[\"X_train\"]\n",
        "        self.y_train = data[\"y_train\"]\n",
        "        self.X_val = data[\"X_val\"]\n",
        "        self.y_val = data[\"y_val\"]\n",
        "\n",
        "        self.update_rule = kwargs.pop(\"update_rule\", \"sgd\")\n",
        "        self.update_rule = getattr(optim, self.update_rule)\n",
        "        self.optim_config = kwargs.pop(\"optim_config\", {})\n",
        "        self.lr_decay = kwargs.pop(\"lr_decay\", 1.0)\n",
        "        self.batch_size = kwargs.pop(\"batch_size\", 100)\n",
        "        self.num_epochs = kwargs.pop(\"num_epochs\", 10)\n",
        "        self.num_train_samples = kwargs.pop(\"num_train_samples\", 1000)\n",
        "        self.num_val_samples = kwargs.pop(\"num_val_samples\", None)\n",
        "\n",
        "        self.epoch = 0\n",
        "        self.best_val_acc = 0\n",
        "        self.best_params = {}\n",
        "        self.loss_history = []\n",
        "        self.train_acc_history = []\n",
        "        self.val_acc_history = []\n",
        "        self.optim_configs = {} # {\"W\": {}, \"b\": {}, ...}\n",
        "        for p in self.model.params:\n",
        "            d = {k: v for k, v in self.optim_config.items()}\n",
        "            self.optim_configs[p] = d\n",
        "\n",
        "    def _step(self):\n",
        "        num_train = self.X_train.shape[0]\n",
        "        batch_mask = np.random.choice(num_train, self.batch_size)\n",
        "        X_batch = self.X_train[batch_mask]\n",
        "        y_batch = self.y_train[batch_mask]\n",
        "\n",
        "        loss, grads = self.model.loss(X_batch, y_batch)\n",
        "        self.loss_history.append(loss)\n",
        "\n",
        "        for p, w in self.model.params.items():\n",
        "            dw = grads[p]\n",
        "            config = self.optim_configs[p]\n",
        "            next_w, next_config = self.update_rule(w, dw, config)\n",
        "            self.model.params[p] = next_w\n",
        "            self.optim_configs[p] = next_config\n",
        "\n",
        "    def check_accuracy(self, X, y, num_samples=None, batch_size=100):\n",
        "        N = X.shape[0]\n",
        "        if num_samples is not None and N > num_samples:\n",
        "            mask = np.random.choice(N, num_samples)\n",
        "            N = num_samples\n",
        "            X = X[mask]\n",
        "            y = y[mask]\n",
        "\n",
        "        num_batches = N // batch_size\n",
        "        if N % batch_size != 0:\n",
        "            num_batches += 1\n",
        "        y_pred = []\n",
        "        for i in range(num_batches):\n",
        "            start = i * batch_size\n",
        "            end = (i + 1) * batch_size\n",
        "            scores = self.model.loss(X[start:end])\n",
        "            y_pred.append(np.argmax(scores, axis=1))\n",
        "        y_pred = np.hstack(y_pred)\n",
        "        acc = np.mean(y_pred == y)\n",
        "\n",
        "        return acc\n",
        "\n",
        "    def train(self):\n",
        "        num_train = self.X_train.shape[0]\n",
        "        iterations_per_epoch = max(num_train // self.batch_size, 1)\n",
        "        num_iterations = self.num_epochs * iterations_per_epoch\n",
        "\n",
        "        for t in range(num_iterations):\n",
        "            self._step()\n",
        "            epoch_end = (t + 1) % iterations_per_epoch == 0\n",
        "            if epoch_end:\n",
        "                self.epoch += 1\n",
        "                for k in self.optim_configs:\n",
        "                    self.optim_configs[k][\"learning_rate\"] *= self.lr_decay\n",
        "\n",
        "            first_it = t == 0\n",
        "            last_it = t == num_iterations - 1\n",
        "            if first_it or last_it or epoch_end:\n",
        "                train_acc = self.check_accuracy(\n",
        "                    self.X_train, self.y_train, num_samples=self.num_train_samples\n",
        "                )\n",
        "                val_acc = self.check_accuracy(\n",
        "                    self.X_val, self.y_val, num_samples=self.num_val_samples\n",
        "                )\n",
        "                self.train_acc_history.append(train_acc)\n",
        "                self.val_acc_history.append(val_acc)\n",
        "\n",
        "                if val_acc > self.best_val_acc:\n",
        "                    self.best_val_acc = val_acc\n",
        "                    self.best_params = {}\n",
        "                    for k, v in self.model.params.items():\n",
        "                        self.best_params[k] = v.copy()\n",
        "\n",
        "        self.model.params = self.best_params"
      ],
      "metadata": {
        "id": "iebIGh6xNq-n"
      },
      "execution_count": null,
      "outputs": []
    },
    {
      "cell_type": "code",
      "execution_count": null,
      "metadata": {
        "id": "UrH4bO8VYfuJ"
      },
      "outputs": [],
      "source": [
        "class LinearClassifier(object):\n",
        "    def __init__(self, input_dim=8*8, num_classes=10, weight_scale=1e-3, reg=0.0, no_loop=True):\n",
        "        self.params = {'W' : np.random.randn(input_dim, num_classes) * weight_scale}\n",
        "        self.reg = reg\n",
        "        self.no_loop = no_loop\n",
        "\n",
        "    def get_loss(self):\n",
        "        return self.loss_hist\n",
        "\n",
        "\n",
        "    def loss(self, X_batch, y_batch, reg):\n",
        "        \"\"\"\n",
        "        Subclasses will override this.\n",
        "        \"\"\"\n",
        "        pass\n",
        "\n",
        "    def predict(self, X):\n",
        "        y_pred = np.zeros(X.shape[0]) # num_trains\n",
        "        W = self.params['W']\n",
        "        scores = X.dot(W)\n",
        "        y_pred = np.argmax(scores, axis=1)\n",
        "\n",
        "        return y_pred"
      ]
    },
    {
      "cell_type": "markdown",
      "metadata": {
        "id": "14XB1Cqm6h0R"
      },
      "source": [
        "## 2.1 Linear Support Vector Machine (Hinge Loss)"
      ]
    },
    {
      "cell_type": "code",
      "execution_count": null,
      "metadata": {
        "id": "Yr2QUrNy6h0T"
      },
      "outputs": [],
      "source": [
        "class LinearSVM(LinearClassifier): #hinge_loss, no bias\n",
        "    def loss(self, X, y=None):\n",
        "        W  = self.params['W']\n",
        "\n",
        "        if y is None:\n",
        "            return X.dot(W)\n",
        "\n",
        "        if self.no_loop == True:\n",
        "            return self.fast_loss(X, y, W)\n",
        "        else:\n",
        "            return self.loop_loss(X, y, W)\n",
        "\n",
        "    def loop_loss(self, X, y, W):\n",
        "        grads = {}\n",
        "        dW = np.zeros(W.shape)\n",
        "        num_class = W.shape[1]\n",
        "        num_train = X.shape[0]\n",
        "        loss = 0.0\n",
        "\n",
        "\n",
        "        for i in range(num_train):\n",
        "            scores = X[i].dot(W)\n",
        "            for j in range(num_class):\n",
        "                if j == y[i]: #correct\n",
        "                    continue\n",
        "                margin = scores[j] - scores[y[i]] + 1\n",
        "                if margin > 0: # note that scores = max(0,s_j - correct + 1)\n",
        "                    dW[:, y[i]] -= X[i]\n",
        "                    dW[:, j] += X[i]\n",
        "\n",
        "        loss /= num_train\n",
        "        dW /= num_train\n",
        "\n",
        "        loss += self.reg*np.sum(W**2)\n",
        "        dW += 2*self.reg*W\n",
        "        grads['W'] = dW\n",
        "\n",
        "        return loss, grads\n",
        "\n",
        "    def fast_loss(self, X, y, W):\n",
        "        grads = {}\n",
        "        loss = 0.0\n",
        "        dW = np.zeros(W.shape)\n",
        "\n",
        "        num_train = X.shape[0]\n",
        "        scores = X.dot(W)\n",
        "        margins = np.maximum(0, scores - scores[range(num_train), y].reshape(-1,1) + 1)\n",
        "        margins[range(num_train), y] = 0\n",
        "        loss = margins.sum() / len(y)\n",
        "        loss += self.reg*np.sum(W**2)\n",
        "\n",
        "        X_idx = np.zeros(margins.shape)\n",
        "        X_idx[np.where(margins > 0)] = 1 # incorrect dx\n",
        "        X_idx[range(num_train), y] = -X_idx.sum(axis=1) # correct dx\n",
        "        dW = X.T.dot(X_idx) / num_train + 2*self.reg*W\n",
        "        grads['W'] = dW\n",
        "\n",
        "        return loss, grads"
      ]
    },
    {
      "cell_type": "code",
      "execution_count": null,
      "metadata": {
        "colab": {
          "base_uri": "https://localhost:8080/"
        },
        "id": "Zn2-JVFx6h0W",
        "outputId": "ea4a74ed-5d5b-4c8d-a64e-dc8c2bfb8960"
      },
      "outputs": [
        {
          "output_type": "stream",
          "name": "stdout",
          "text": [
            "0.6589963436126709\n"
          ]
        }
      ],
      "source": [
        "import time\n",
        "\n",
        "svm_with_loop = LinearSVM(no_loop=False)\n",
        "lr=1e-2\n",
        "solver = Solver(svm_with_loop, data, optim_config={'learning_rate': lr}, num_epochs=100)\n",
        "tic = time.time()\n",
        "solver.train()\n",
        "toc = time.time()\n",
        "print(toc-tic)"
      ]
    },
    {
      "cell_type": "code",
      "execution_count": null,
      "metadata": {
        "colab": {
          "base_uri": "https://localhost:8080/"
        },
        "id": "QVJ9eft56h0b",
        "outputId": "1adcf007-e6ba-4962-8bc6-aa4d651bcb5c"
      },
      "outputs": [
        {
          "output_type": "stream",
          "name": "stdout",
          "text": [
            "0.13002943992614746\n"
          ]
        }
      ],
      "source": [
        "svm_no_loop = LinearSVM(no_loop=True)\n",
        "solver = Solver(svm_no_loop, data, optim_config={'learning_rate': lr}, num_epochs=100)\n",
        "tic = time.time()\n",
        "solver.train()\n",
        "toc = time.time()\n",
        "print(toc-tic)"
      ]
    },
    {
      "cell_type": "code",
      "execution_count": null,
      "metadata": {
        "colab": {
          "base_uri": "https://localhost:8080/",
          "height": 346
        },
        "id": "5vrhTRCB6h0h",
        "outputId": "04f8408b-0799-4ad3-f480-434d967f6d2c"
      },
      "outputs": [
        {
          "output_type": "display_data",
          "data": {
            "text/plain": [
              "<Figure size 640x480 with 10 Axes>"
            ],
            "image/png": "[encoded data removed]"
          },
          "metadata": {}
        }
      ],
      "source": [
        "w = svm_no_loop.params['W']\n",
        "w = w.reshape(8,8,10)\n",
        "w_min, w_max = w.min(), w.max()\n",
        "for i in range(10):\n",
        "    plt.subplot(2,5,i+1)\n",
        "    w_scaled = 255*(w[:,:,i].squeeze() - w_min) / (w_max - w_min)\n",
        "    plt.imshow(w_scaled)\n",
        "    plt.axis('off')\n",
        "    plt.title(classes[i])"
      ]
    },
    {
      "cell_type": "code",
      "execution_count": null,
      "metadata": {
        "colab": {
          "base_uri": "https://localhost:8080/"
        },
        "id": "bsKujwfM6h0l",
        "outputId": "4655a625-3f55-427f-ef89-a9c09bfd6bcf"
      },
      "outputs": [
        {
          "output_type": "execute_result",
          "data": {
            "text/plain": [
              "0.9675925925925926"
            ]
          },
          "metadata": {},
          "execution_count": 36
        }
      ],
      "source": [
        "solver.best_val_acc"
      ]
    },
    {
      "cell_type": "code",
      "source": [
        "tmp = 0\n",
        "y_test_pred = svm_no_loop.predict(X_test)\n",
        "for iter, target_name in enumerate(classes):\n",
        "    idxs = np.where((y_test != target_name) & (y_test_pred == target_name))[0]\n",
        "    for i, idx in enumerate(idxs):\n",
        "        plt.subplot(len(idxs), 10, i*10+iter+1)\n",
        "        plt.imshow(X_test[idx].reshape(8,8))\n",
        "        plt.axis(\"off\")\n",
        "        if i==0:\n",
        "            plt.title(target_name)\n",
        "\n",
        "plt.show()"
      ],
      "metadata": {
        "colab": {
          "base_uri": "https://localhost:8080/",
          "height": 428
        },
        "id": "qyDxuT9i7MD6",
        "outputId": "3e2bf8b7-6f4f-471a-da16-194e95e4efdc"
      },
      "execution_count": null,
      "outputs": [
        {
          "output_type": "display_data",
          "data": {
            "text/plain": [
              "<Figure size 640x480 with 76 Axes>"
            ],
            "image/png": "[encoded data removed]"
          },
          "metadata": {}
        }
      ]
    },
    {
      "cell_type": "markdown",
      "metadata": {
        "id": "V1UAuaMP6h0r"
      },
      "source": [
        "# 2.2 Softmax (Cross entropy)"
      ]
    },
    {
      "cell_type": "code",
      "execution_count": null,
      "metadata": {
        "id": "Y-vVJC4G6h0u"
      },
      "outputs": [],
      "source": [
        "class Sofmax(LinearClassifier): #cross entropy_loss, no_bias\n",
        "    def loss(self, X, y=None):\n",
        "        W  = self.params['W']\n",
        "\n",
        "        if y is None:\n",
        "            return X.dot(W)\n",
        "        if self.no_loop == True:\n",
        "            return self.fast_loss(X, y, W)\n",
        "        else:\n",
        "            return self.loop_loss(X, y, W)\n",
        "\n",
        "    def loop_loss(self, X, y, W):\n",
        "        loss = 0.0\n",
        "        grads = {}\n",
        "        dW=  np.zeros(W.shape)\n",
        "        stable_sotfmax = lambda x: np.exp(x-np.max(x)) / np.exp(x - np.max(x)).sum()\n",
        "        num_train = X.shape[0]\n",
        "        num_class = W.shape[1]\n",
        "\n",
        "        for i in range(num_train):\n",
        "            scores = X[i].dot(W)\n",
        "            h = stable_sotfmax(scores)\n",
        "            loss -= np.log(h[y[i]])\n",
        "\n",
        "            for j in range(num_class):\n",
        "                if(y[i] == j): continue\n",
        "                dW[:,j] += h[j]*X[i]\n",
        "            dW[:,y[i]] -= (1-h[y[i]]) * X[i]\n",
        "\n",
        "        loss /= num_train\n",
        "        dW /= num_train\n",
        "        loss += self.reg*np.sum(W**2)\n",
        "        dW += 2*self.reg*W\n",
        "        grads['W'] = dW\n",
        "\n",
        "        return loss, grads\n",
        "\n",
        "    def fast_loss(self, X, y, W):\n",
        "        loss = 0.0\n",
        "        grads = {}\n",
        "        dW = np.zeros(W.shape)\n",
        "        num_train = X.shape[0]\n",
        "\n",
        "        s = X.dot(W)\n",
        "        h = np.exp(s - np.max(s)) / np.exp(s - np.max(s)).sum(axis=1).reshape(-1,1)\n",
        "\n",
        "        loss = (-np.log(h[range(num_train), y])).sum() / num_train\n",
        "        loss += self.reg*np.sum(W**2)\n",
        "\n",
        "        h[range(num_train), y] -= 1\n",
        "        dW = X.T.dot(h) / num_train\n",
        "        dW += 2*self.reg*W\n",
        "        grads['W'] = dW\n",
        "\n",
        "        return loss, grads"
      ]
    },
    {
      "cell_type": "code",
      "execution_count": null,
      "metadata": {
        "colab": {
          "base_uri": "https://localhost:8080/"
        },
        "id": "ULABWg-R6h0w",
        "outputId": "8aa8a01c-8607-45e9-baa1-febabb8e2624"
      },
      "outputs": [
        {
          "output_type": "stream",
          "name": "stdout",
          "text": [
            "3.6801764965057373\n"
          ]
        }
      ],
      "source": [
        "clf_with_loop = Sofmax(no_loop=False)\n",
        "solver = Solver(clf_with_loop, data, optim_config={'learning_rate': lr}, num_epochs=100)\n",
        "tic = time.time()\n",
        "solver.train()\n",
        "toc = time.time()\n",
        "print(toc-tic)"
      ]
    },
    {
      "cell_type": "code",
      "execution_count": null,
      "metadata": {
        "colab": {
          "base_uri": "https://localhost:8080/"
        },
        "id": "1KpJL-Jt6h05",
        "outputId": "36b673cd-74b2-4a25-ff85-db4af33addb9"
      },
      "outputs": [
        {
          "output_type": "stream",
          "name": "stdout",
          "text": [
            "0.14655804634094238\n"
          ]
        }
      ],
      "source": [
        "clf_no_loop = Sofmax()\n",
        "solver = Solver(clf_no_loop, data, optim_config={'learning_rate': lr}, num_epochs=100)\n",
        "tic = time.time()\n",
        "solver.train()\n",
        "toc = time.time()\n",
        "print(toc-tic)"
      ]
    },
    {
      "cell_type": "code",
      "execution_count": null,
      "metadata": {
        "colab": {
          "base_uri": "https://localhost:8080/",
          "height": 346
        },
        "id": "CEybYAyp6h09",
        "outputId": "cd29c0cd-d790-49a8-b159-36129ddfc7e9"
      },
      "outputs": [
        {
          "output_type": "display_data",
          "data": {
            "text/plain": [
              "<Figure size 640x480 with 10 Axes>"
            ],
            "image/png": "[encoded data removed]"
          },
          "metadata": {}
        }
      ],
      "source": [
        "w = clf_no_loop.params['W']\n",
        "w = w.reshape(8,8,10)\n",
        "w_min, w_max = w.min(), w.max()\n",
        "for i in range(10):\n",
        "    plt.subplot(2,5,i+1)\n",
        "    w_scaled = 255*(w[:,:,i].squeeze() - w_min) / (w_max - w_min)\n",
        "    plt.imshow(w_scaled)\n",
        "    plt.axis('off')\n",
        "    plt.title(classes[i])"
      ]
    },
    {
      "cell_type": "code",
      "execution_count": null,
      "metadata": {
        "colab": {
          "base_uri": "https://localhost:8080/"
        },
        "id": "JHO7hRef6h1E",
        "outputId": "a7b4e26c-8cfe-49d2-a463-5834c564ece8"
      },
      "outputs": [
        {
          "output_type": "execute_result",
          "data": {
            "text/plain": [
              "0.9814814814814815"
            ]
          },
          "metadata": {},
          "execution_count": 20
        }
      ],
      "source": [
        "solver.best_val_acc"
      ]
    },
    {
      "cell_type": "code",
      "execution_count": null,
      "metadata": {
        "colab": {
          "base_uri": "https://localhost:8080/",
          "height": 428
        },
        "id": "LTkRs_DG6h1J",
        "outputId": "43b99ca0-afcd-4d2f-875d-188df5dab17a"
      },
      "outputs": [
        {
          "output_type": "display_data",
          "data": {
            "text/plain": [
              "<Figure size 640x480 with 63 Axes>"
            ],
            "image/png": "[encoded data removed]"
          },
          "metadata": {}
        }
      ],
      "source": [
        "tmp = 0\n",
        "y_test_pred = clf_no_loop.predict(X_test)\n",
        "for iter, target_name in enumerate(classes):\n",
        "    idxs = np.where((y_test != target_name) & (y_test_pred == target_name))[0]\n",
        "    for i, idx in enumerate(idxs):\n",
        "        plt.subplot(len(idxs), 10, i*10+iter+1)\n",
        "        plt.imshow(X_test[idx].reshape(8,8))\n",
        "        plt.axis(\"off\")\n",
        "        if i==0:\n",
        "            plt.title(target_name)\n",
        "\n",
        "plt.show()"
      ]
    },
    {
      "cell_type": "markdown",
      "source": [
        "# 3. Neural Network"
      ],
      "metadata": {
        "id": "gSEAOi6MAqwO"
      }
    },
    {
      "cell_type": "code",
      "source": [
        "class NeuralNetwork(object):\n",
        "    def __init__(self, input_dim=8*8, hidden_dim=50, num_classes=10, weight_scale=1e-3, reg=0.0):\n",
        "        self.params = {\n",
        "            'W1': np.random.randn(input_dim, hidden_dim) * weight_scale,\n",
        "            'b1': np.zeros(hidden_dim),\n",
        "            'W2': np.random.randn(hidden_dim, num_classes) * weight_scale,\n",
        "            'b2': np.zeros(num_classes)\n",
        "        }\n",
        "        self.reg = reg\n",
        "\n",
        "    def affine_forward(self,x,w,b):\n",
        "        D = w.shape[0]\n",
        "        N = x.shape[0]\n",
        "\n",
        "        out = x.reshape(N,D).dot(w) + b\n",
        "\n",
        "        cache = (x, w, b)\n",
        "        return out, cache\n",
        "\n",
        "    def affine_backward(self, dout, cache):\n",
        "        x,w,b = cache\n",
        "        N = x.shape[0]\n",
        "        D = w.shape[0]\n",
        "\n",
        "        dx = dout.dot(w.T).reshape(x.shape)\n",
        "        grads = x.reshape(N,D).T.dot(dout)\n",
        "        db = dout.sum(axis=0)\n",
        "        return dx, grads, db\n",
        "\n",
        "    def relu_forward(self, x):\n",
        "        out = np.maximum(0,x)\n",
        "        cache = x\n",
        "        return out, cache\n",
        "\n",
        "    def relu_backward(self, dout, cache):\n",
        "        dout[cache<=0] = 0\n",
        "        dx = dout\n",
        "        return dx\n",
        "\n",
        "    def affine_relu_forward(self, x, w, b):\n",
        "        a, fc_cache = self.affine_forward(x, w, b)\n",
        "        out, relu_cache = self.relu_forward(a)\n",
        "        cache = (fc_cache, relu_cache)\n",
        "        return out, cache\n",
        "\n",
        "    def affine_relu_backward(self, dout, cache):\n",
        "        fc_cache, relu_cache = cache\n",
        "        da = self.relu_backward(dout, relu_cache)\n",
        "        dx, grads, db = self.affine_backward(da, fc_cache)\n",
        "        return dx, grads, db\n",
        "\n",
        "    def svm_loss(self, x, y):\n",
        "        margins = np.maximum(0, x - x[range(len(y)), y].reshape(-1,1) + 1)\n",
        "        margins[range(len(y)), y] = 0\n",
        "        loss = margins.sum() / len(y)\n",
        "\n",
        "        dx = (margins>0).astype(float)\n",
        "        dx[range(len(y)), y] = -dx.sum(axis=1)\n",
        "        dx /= len(y)\n",
        "\n",
        "        return loss, dx\n",
        "\n",
        "    def softmax_loss(self, x, y):\n",
        "        h = np.exp(x - np.max(x)) / np.exp(x - np.max(x)).sum(axis=1).reshape(-1,1)\n",
        "        loss = -np.log(h[range(len(y)), y]).sum() / len(y)\n",
        "\n",
        "        h[range(len(y)), y] -= 1\n",
        "        dx = h / len(y)\n",
        "\n",
        "        return loss, dx\n",
        "\n",
        "\n",
        "    def loss(self, X, y):\n",
        "        pass"
      ],
      "metadata": {
        "id": "FiFPC1nXAdrS"
      },
      "execution_count": null,
      "outputs": []
    },
    {
      "cell_type": "code",
      "source": [
        "class TwoLayer(NeuralNetwork):\n",
        "    def loss(self, X, y=None):\n",
        "        W1, b1, W2, b2 = self.params.values()\n",
        "        out, cache1 = self.affine_relu_forward(X, W1, b1) # affine\n",
        "        scores, cache2 = self.affine_forward(out, W2, b2) # - affine\n",
        "\n",
        "        if y is None:\n",
        "            return scores\n",
        "\n",
        "        loss, grads = 0, {}\n",
        "\n",
        "        loss, dloss = self.softmax_loss(scores, y)\n",
        "\n",
        "        dscores, grads2, db2 = self.affine_backward(dloss, cache2)\n",
        "        dout, grads1, db1 = self.affine_relu_backward(dscores, cache1)\n",
        "\n",
        "        #regularization\n",
        "        loss += 0.5 * self.reg * (np.sum(W1**2) + np.sum(W2**2))\n",
        "        grads1 += self.reg*W1\n",
        "        grads2 += self.reg*W2\n",
        "        grads = {'W1': grads1, 'b1': db1, 'W2': grads2, 'b2': db2}\n",
        "\n",
        "        return loss, grads"
      ],
      "metadata": {
        "id": "u8wIlloUBlcx"
      },
      "execution_count": null,
      "outputs": []
    },
    {
      "cell_type": "code",
      "source": [
        "nn = TwoLayer()\n",
        "lr = 1e-2\n",
        "solver = Solver(nn, data, optim_config={'learning_rate': lr}, num_epochs=100)\n",
        "solver.train()\n",
        "solver.best_val_acc"
      ],
      "metadata": {
        "colab": {
          "base_uri": "https://localhost:8080/"
        },
        "id": "xVCwOcVAIaqq",
        "outputId": "c717cfce-f8ac-43c3-ad63-b20d2d40d427"
      },
      "execution_count": null,
      "outputs": [
        {
          "output_type": "execute_result",
          "data": {
            "text/plain": [
              "0.9490740740740741"
            ]
          },
          "metadata": {},
          "execution_count": 24
        }
      ]
    },
    {
      "cell_type": "code",
      "source": [
        "results = {}\n",
        "best_val = -1\n",
        "\n",
        "learning_rates = np.linspace(1e-2, 2.75e-2, 4)\n",
        "regularization_strengths = np.geomspace(1e-6, 1e-4, 3)\n",
        "\n",
        "net = TwoLayer()\n",
        "best_net = None\n",
        "\n",
        "for lr, reg in itertools.product(learning_rates, regularization_strengths):\n",
        "    # Create Two Layer Net and train it with Solver\n",
        "    model = net\n",
        "    solver = Solver(model, data, optim_config={'learning_rate': lr}, num_epochs=15, verbose=False)\n",
        "    solver.train()\n",
        "\n",
        "    # Compute validation set accuracy and append to the dictionary\n",
        "    results[(lr, reg)] = solver.best_val_acc\n",
        "\n",
        "    # Save if validation accuracy is the best\n",
        "    if results[(lr, reg)] > best_val:\n",
        "        best_val = results[(lr, reg)]\n",
        "        best_net = model\n",
        "\n",
        "for lr, reg in sorted(results):\n",
        "    val_accuracy = results[(lr, reg)]\n",
        "    print('lr %e reg %e val accuracy: %f' % (lr, reg, val_accuracy))\n",
        "\n",
        "print('best validation accuracy achieved during cross-validation: %f' % best_val)"
      ],
      "metadata": {
        "colab": {
          "base_uri": "https://localhost:8080/"
        },
        "id": "MUapxYM0Wq3y",
        "outputId": "5dc4fa56-60b3-4c12-df34-ff80b037bb56"
      },
      "execution_count": null,
      "outputs": [
        {
          "output_type": "stream",
          "name": "stdout",
          "text": [
            "lr 1.000000e-02 reg 1.000000e-06 val accuracy: 0.273148\n",
            "lr 1.000000e-02 reg 1.000000e-05 val accuracy: 0.342593\n",
            "lr 1.000000e-02 reg 1.000000e-04 val accuracy: 0.879630\n",
            "lr 1.583333e-02 reg 1.000000e-06 val accuracy: 0.935185\n",
            "lr 1.583333e-02 reg 1.000000e-05 val accuracy: 0.944444\n",
            "lr 1.583333e-02 reg 1.000000e-04 val accuracy: 0.949074\n",
            "lr 2.166667e-02 reg 1.000000e-06 val accuracy: 0.953704\n",
            "lr 2.166667e-02 reg 1.000000e-05 val accuracy: 0.958333\n",
            "lr 2.166667e-02 reg 1.000000e-04 val accuracy: 0.967593\n",
            "lr 2.750000e-02 reg 1.000000e-06 val accuracy: 0.967593\n",
            "lr 2.750000e-02 reg 1.000000e-05 val accuracy: 0.972222\n",
            "lr 2.750000e-02 reg 1.000000e-04 val accuracy: 0.976852\n",
            "best validation accuracy achieved during cross-validation: 0.976852\n"
          ]
        }
      ]
    },
    {
      "cell_type": "code",
      "source": [
        "y_test_pred = np.argmax(best_net.loss(data['X_test']), axis=1)\n",
        "test_acc = (y_test_pred == data['y_test']).mean()\n",
        "print(test_acc)"
      ],
      "metadata": {
        "colab": {
          "base_uri": "https://localhost:8080/"
        },
        "id": "el2P9LT-W4bc",
        "outputId": "0763e8f2-c17d-47fb-86f0-b11b0e404680"
      },
      "execution_count": null,
      "outputs": [
        {
          "output_type": "stream",
          "name": "stdout",
          "text": [
            "0.9388322520852641\n"
          ]
        }
      ]
    }
  ],
  "metadata": {
    "colab": {
      "provenance": [],
      "gpuType": "T4",
      "include_colab_link": true
    },
    "kernelspec": {
      "display_name": "Python 3",
      "name": "python3"
    },
    "language_info": {
      "codemirror_mode": {
        "name": "ipython",
        "version": 3
      },
      "file_extension": ".py",
      "mimetype": "text/x-python",
      "name": "python",
      "nbconvert_exporter": "python",
      "pygments_lexer": "ipython3",
      "version": "3.7.6"
    },
    "accelerator": "GPU"
  },
  "nbformat": 4,
  "nbformat_minor": 0
}