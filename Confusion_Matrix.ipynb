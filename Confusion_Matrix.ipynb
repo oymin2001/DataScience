{
  "nbformat": 4,
  "nbformat_minor": 0,
  "metadata": {
    "colab": {
      "provenance": [],
      "authorship_tag": "ABX9TyMINm/51OW1Cnk33Vec79/L",
      "include_colab_link": true
    },
    "kernelspec": {
      "name": "python3",
      "display_name": "Python 3"
    },
    "language_info": {
      "name": "python"
    },
    "gpuClass": "standard"
  },
  "cells": [
    {
      "cell_type": "markdown",
      "metadata": {
        "id": "view-in-github",
        "colab_type": "text"
      },
      "source": [
        "<a href=\"https://colab.research.google.com/github/oymin2001/DataScience/blob/main/Confusion_Matrix.ipynb\" target=\"_parent\"><img src=\"https://colab.research.google.com/assets/colab-badge.svg\" alt=\"Open In Colab\"/></a>"
      ]
    },
    {
      "cell_type": "code",
      "execution_count": 91,
      "metadata": {
        "id": "n_t96zq5oeVW"
      },
      "outputs": [],
      "source": [
        "import numpy as np\n",
        "import pandas as pd\n",
        "import matplotlib.pyplot as plt\n",
        "import seaborn as sns\n",
        "from sklearn.datasets import load_iris, load_breast_cancer\n",
        "from sklearn.model_selection import StratifiedKFold\n",
        "from sklearn.tree import DecisionTreeClassifier\n",
        "from sklearn.metrics import accuracy_score, recall_score, precision_score\n",
        "from sklearn.model_selection import train_test_split\n",
        "from sklearn.metrics import roc_curve, roc_auc_score\n",
        "\n",
        "%matplotlib inline"
      ]
    },
    {
      "cell_type": "markdown",
      "source": [
        "#1. Binary Class"
      ],
      "metadata": {
        "id": "kzHN98_UH714"
      }
    },
    {
      "cell_type": "code",
      "source": [
        "binary_confusion_matrix = pd.DataFrame({'Positive':['TP','FP'],'Negative':['FN','TN']})\n",
        "binary_confusion_matrix.columns.name = 'Predict'\n",
        "binary_confusion_matrix.index = ['True', 'False']\n",
        "binary_confusion_matrix.index.name = 'Actual'\n",
        "binary_confusion_matrix"
      ],
      "metadata": {
        "colab": {
          "base_uri": "https://localhost:8080/",
          "height": 142
        },
        "outputId": "b9fbba2c-b4d2-4d1e-adf5-4bcc373bdc62",
        "id": "Wrs0ELx9o6G9"
      },
      "execution_count": 2,
      "outputs": [
        {
          "output_type": "execute_result",
          "data": {
            "text/plain": [
              "Predict Positive Negative\n",
              "Actual                   \n",
              "True          TP       FN\n",
              "False         FP       TN"
            ],
            "text/html": [
              "\n",
              "  <div id=\"df-6c8b10ac-8379-486f-a64c-7bf38aa2357f\">\n",
              "    <div class=\"colab-df-container\">\n",
              "      <div>\n",
              "<style scoped>\n",
              "    .dataframe tbody tr th:only-of-type {\n",
              "        vertical-align: middle;\n",
              "    }\n",
              "\n",
              "    .dataframe tbody tr th {\n",
              "        vertical-align: top;\n",
              "    }\n",
              "\n",
              "    .dataframe thead th {\n",
              "        text-align: right;\n",
              "    }\n",
              "</style>\n",
              "<table border=\"1\" class=\"dataframe\">\n",
              "  <thead>\n",
              "    <tr style=\"text-align: right;\">\n",
              "      <th>Predict</th>\n",
              "      <th>Positive</th>\n",
              "      <th>Negative</th>\n",
              "    </tr>\n",
              "    <tr>\n",
              "      <th>Actual</th>\n",
              "      <th></th>\n",
              "      <th></th>\n",
              "    </tr>\n",
              "  </thead>\n",
              "  <tbody>\n",
              "    <tr>\n",
              "      <th>True</th>\n",
              "      <td>TP</td>\n",
              "      <td>FN</td>\n",
              "    </tr>\n",
              "    <tr>\n",
              "      <th>False</th>\n",
              "      <td>FP</td>\n",
              "      <td>TN</td>\n",
              "    </tr>\n",
              "  </tbody>\n",
              "</table>\n",
              "</div>\n",
              "      <button class=\"colab-df-convert\" onclick=\"convertToInteractive('df-6c8b10ac-8379-486f-a64c-7bf38aa2357f')\"\n",
              "              title=\"Convert this dataframe to an interactive table.\"\n",
              "              style=\"display:none;\">\n",
              "        \n",
              "  <svg xmlns=\"http://www.w3.org/2000/svg\" height=\"24px\"viewBox=\"0 0 24 24\"\n",
              "       width=\"24px\">\n",
              "    <path d=\"M0 0h24v24H0V0z\" fill=\"none\"/>\n",
              "    <path d=\"M18.56 5.44l.94 2.06.94-2.06 2.06-.94-2.06-.94-.94-2.06-.94 2.06-2.06.94zm-11 1L8.5 8.5l.94-2.06 2.06-.94-2.06-.94L8.5 2.5l-.94 2.06-2.06.94zm10 10l.94 2.06.94-2.06 2.06-.94-2.06-.94-.94-2.06-.94 2.06-2.06.94z\"/><path d=\"M17.41 7.96l-1.37-1.37c-.4-.4-.92-.59-1.43-.59-.52 0-1.04.2-1.43.59L10.3 9.45l-7.72 7.72c-.78.78-.78 2.05 0 2.83L4 21.41c.39.39.9.59 1.41.59.51 0 1.02-.2 1.41-.59l7.78-7.78 2.81-2.81c.8-.78.8-2.07 0-2.86zM5.41 20L4 18.59l7.72-7.72 1.47 1.35L5.41 20z\"/>\n",
              "  </svg>\n",
              "      </button>\n",
              "      \n",
              "  <style>\n",
              "    .colab-df-container {\n",
              "      display:flex;\n",
              "      flex-wrap:wrap;\n",
              "      gap: 12px;\n",
              "    }\n",
              "\n",
              "    .colab-df-convert {\n",
              "      background-color: #E8F0FE;\n",
              "      border: none;\n",
              "      border-radius: 50%;\n",
              "      cursor: pointer;\n",
              "      display: none;\n",
              "      fill: #1967D2;\n",
              "      height: 32px;\n",
              "      padding: 0 0 0 0;\n",
              "      width: 32px;\n",
              "    }\n",
              "\n",
              "    .colab-df-convert:hover {\n",
              "      background-color: #E2EBFA;\n",
              "      box-shadow: 0px 1px 2px rgba(60, 64, 67, 0.3), 0px 1px 3px 1px rgba(60, 64, 67, 0.15);\n",
              "      fill: #174EA6;\n",
              "    }\n",
              "\n",
              "    [theme=dark] .colab-df-convert {\n",
              "      background-color: #3B4455;\n",
              "      fill: #D2E3FC;\n",
              "    }\n",
              "\n",
              "    [theme=dark] .colab-df-convert:hover {\n",
              "      background-color: #434B5C;\n",
              "      box-shadow: 0px 1px 3px 1px rgba(0, 0, 0, 0.15);\n",
              "      filter: drop-shadow(0px 1px 2px rgba(0, 0, 0, 0.3));\n",
              "      fill: #FFFFFF;\n",
              "    }\n",
              "  </style>\n",
              "\n",
              "      <script>\n",
              "        const buttonEl =\n",
              "          document.querySelector('#df-6c8b10ac-8379-486f-a64c-7bf38aa2357f button.colab-df-convert');\n",
              "        buttonEl.style.display =\n",
              "          google.colab.kernel.accessAllowed ? 'block' : 'none';\n",
              "\n",
              "        async function convertToInteractive(key) {\n",
              "          const element = document.querySelector('#df-6c8b10ac-8379-486f-a64c-7bf38aa2357f');\n",
              "          const dataTable =\n",
              "            await google.colab.kernel.invokeFunction('convertToInteractive',\n",
              "                                                     [key], {});\n",
              "          if (!dataTable) return;\n",
              "\n",
              "          const docLinkHtml = 'Like what you see? Visit the ' +\n",
              "            '<a target=\"_blank\" href=https://colab.research.google.com/notebooks/data_table.ipynb>data table notebook</a>'\n",
              "            + ' to learn more about interactive tables.';\n",
              "          element.innerHTML = '';\n",
              "          dataTable['output_type'] = 'display_data';\n",
              "          await google.colab.output.renderOutput(dataTable, element);\n",
              "          const docLink = document.createElement('div');\n",
              "          docLink.innerHTML = docLinkHtml;\n",
              "          element.appendChild(docLink);\n",
              "        }\n",
              "      </script>\n",
              "    </div>\n",
              "  </div>\n",
              "  "
            ]
          },
          "metadata": {},
          "execution_count": 2
        }
      ]
    },
    {
      "cell_type": "markdown",
      "source": [
        "- accuracy score = P(predict == actual) = (TP + TN) / (TP + FN + FP + TN): 전체에서 실제와 예측값이 일치한 비율\n",
        "\n",
        "\n",
        "- precison score = P(predict == actual | positive) = TP / (TP + FP): 양성이라고 예측했을때 실제로 양성인 비율\n",
        "\n",
        "\n",
        "- recall score = P(predict == actual | true) = TP / (TP + FN): 실제로 양성일때 양성이라고 예측한 비율\n",
        "\n",
        "\n",
        "- F1-Score: Precision score와 Recall score의 조화평균\n",
        "\n",
        "**데이터가 균등할 때는 accuracy score를 불균등할 때는 F1-score를 사용하는 것이 좋다.**"
      ],
      "metadata": {
        "id": "gNHBFj1NJO8v"
      }
    },
    {
      "cell_type": "code",
      "source": [
        "def get_binary_confusion_matrix(label, predict):\n",
        "    TP = 0\n",
        "    FN = 0\n",
        "    FP = 0\n",
        "    TN = 0\n",
        "    for i in range(len(label)):\n",
        "        if(label[i] == 1): # actually true\n",
        "            if(predict[i] == 1): #True Positive\n",
        "                TP+=1 \n",
        "            else: # False negative\n",
        "                FN+=1\n",
        "\n",
        "        else: #actually false\n",
        "            if(predict[i] == 1): #False Positive\n",
        "                FP += 1\n",
        "            else: # True Negative\n",
        "                TN += 1\n",
        "    \n",
        "    table = pd.DataFrame({'Positive':[TP,FP],'Negative':[FN,TN]})\n",
        "    table.columns.name = 'Predict'\n",
        "    table.index = ['True', 'False']\n",
        "    table.index.name = 'Actual'\n",
        "    return table"
      ],
      "metadata": {
        "id": "iJS2fWzHJIGh"
      },
      "execution_count": 3,
      "outputs": []
    },
    {
      "cell_type": "code",
      "source": [
        "def get_score(table):\n",
        "    TP = table['Positive']['True']\n",
        "    FP = table['Positive']['False']\n",
        "    FN = table['Negative']['True']\n",
        "    TN = table['Negative']['False']\n",
        "    acc = (TP + TN) / (TP + FP + FN + TN)\n",
        "    precision = TP / (TP + FP)\n",
        "    recall = TP / (TP + FN)\n",
        "    return acc, precision, recall"
      ],
      "metadata": {
        "id": "gejbkXo3P8FM"
      },
      "execution_count": 4,
      "outputs": []
    },
    {
      "cell_type": "code",
      "source": [
        "class binary_confusion_matrix:\n",
        "    def __init__(self):\n",
        "        self.TP = 0\n",
        "        self.FP = 0\n",
        "        self.FN = 0\n",
        "        self.TN = 0\n",
        "\n",
        "    def fit(self, label, predict):\n",
        "        for i in range(len(label)):\n",
        "            if(label[i] == 1): # actually true\n",
        "                if(predict[i] == 1): #True Positive\n",
        "                    self.TP+=1 \n",
        "                else: # False negative\n",
        "                    self.FN+=1\n",
        "\n",
        "            else: #actually false\n",
        "                if(predict[i] == 1): #False Positive\n",
        "                    self.FP += 1\n",
        "                else: # True Negative\n",
        "                    self.TN += 1\n",
        "\n",
        "    def visualization(self):\n",
        "        table = pd.DataFrame({'Positive':[self.TP, self.FP],'Negative':[self.FN, self.TN]})\n",
        "        table.columns.name = 'Predict'\n",
        "        table.index = ['True', 'False']\n",
        "        table.index.name = 'Actual'\n",
        "        plt.figure(figsize=(8,6))\n",
        "        sns.heatmap(table.values, annot=True)\n",
        "        plt.title(\"Confusion Matrix\")\n",
        "\n",
        "    def get_score(self):\n",
        "        acc = (self.TP + self.TN) / (self.TP + self.FP + self.FN + self.TN)\n",
        "        precision = self.TP / (self.TP + self.FP)\n",
        "        recall = self.TP / (self.TP + self.FN)\n",
        "        f1 = 2*(precision*recall) / (precision + recall) \n",
        "        print('\\n=====================================Confusion Matrix Score==================================\\n')\n",
        "        print(\"Accuracy score is {}. Precision score is {}. Recall score is {}. F1-score is {}.\".format(np.round(acc,2), np.round(precision,2), np.round(recall,2), np.round(f1,2)))\n",
        "        print('\\n=============================================================================================\\n') "
      ],
      "metadata": {
        "id": "9UOU9Y32RhRP"
      },
      "execution_count": 83,
      "outputs": []
    },
    {
      "cell_type": "code",
      "source": [
        "data = load_breast_cancer()\n",
        "features = data.data\n",
        "label = data.target\n",
        "df_clf = DecisionTreeClassifier(random_state=42)"
      ],
      "metadata": {
        "id": "X_cj6vrSMG4h"
      },
      "execution_count": 73,
      "outputs": []
    },
    {
      "cell_type": "code",
      "source": [
        "X_train ,X_test, y_train, y_test = train_test_split(features, label, test_size=0.3, random_state=42)\n",
        "df_clf.fit(X_train, y_train)\n",
        "y_pred = df_clf.predict(X_test)"
      ],
      "metadata": {
        "id": "RGxz3D4BM8V1"
      },
      "execution_count": 74,
      "outputs": []
    },
    {
      "cell_type": "code",
      "source": [
        "conf_matrix = binary_confusion_matrix()\n",
        "conf_matrix.fit(y_pred, y_test)\n",
        "conf_matrix.visualization()"
      ],
      "metadata": {
        "colab": {
          "base_uri": "https://localhost:8080/",
          "height": 390
        },
        "id": "kkX2ehE2OKmQ",
        "outputId": "96e52a87-8ad4-457b-deaa-830b3f16d664"
      },
      "execution_count": 75,
      "outputs": [
        {
          "output_type": "display_data",
          "data": {
            "text/plain": [
              "<Figure size 576x432 with 2 Axes>"
            ],
            "image/png": "[encoded data removed]"
          },
          "metadata": {
            "needs_background": "light"
          }
        }
      ]
    },
    {
      "cell_type": "code",
      "source": [
        "conf_matrix.get_score()"
      ],
      "metadata": {
        "colab": {
          "base_uri": "https://localhost:8080/"
        },
        "id": "xLKvkB_RTbN4",
        "outputId": "b96ff74d-5a17-445f-edcb-c3b8f04df48f"
      },
      "execution_count": 76,
      "outputs": [
        {
          "output_type": "stream",
          "name": "stdout",
          "text": [
            "\n",
            "=====================================Confusion Matrix Score==================================\n",
            "\n",
            "Accuracy score is 0.94. Precision score is 0.94. Recall score is 0.97. F1-score is 0.95.\n",
            "\n",
            "=============================================================================================\n",
            "\n"
          ]
        }
      ]
    },
    {
      "cell_type": "markdown",
      "source": [
        "##1.1 ROC Curve\n",
        "    X-axis: FPR(False Postivie Rate) = FP / (FP + TN)\n",
        "    \n",
        "    Y-axis: TPR(True Positive Rate) = TP / (TP + FN)\n",
        "    \n",
        "    parameter: threshold\n",
        "        "
      ],
      "metadata": {
        "id": "IskywmHXxhD-"
      }
    },
    {
      "cell_type": "code",
      "source": [
        "fpr, tpr, threshold = roc_curve(y_test, y_pred)\n",
        "print('ROC_AUC_Score: ',np.round(roc_auc_score(y_test, y_pred), 3))\n",
        "\n",
        "plt.figure(figsize=(8,6))\n",
        "plt.plot(fpr, tpr)\n",
        "plt.scatter(fpr,tpr)\n",
        "plt.plot([0,1],[0,1])\n",
        "plt.xlabel('False-Positive-Rate')\n",
        "plt.ylabel('True-Positive-Rate')\n",
        "plt.title('ROC Curve')\n",
        "plt.show()    "
      ],
      "metadata": {
        "colab": {
          "base_uri": "https://localhost:8080/",
          "height": 422
        },
        "id": "426H0htrrxR3",
        "outputId": "874e57f3-0c0d-4122-f735-67f5e5a323a7"
      },
      "execution_count": 95,
      "outputs": [
        {
          "output_type": "stream",
          "name": "stdout",
          "text": [
            "ROC_AUC_Score:  0.944\n"
          ]
        },
        {
          "output_type": "display_data",
          "data": {
            "text/plain": [
              "<Figure size 576x432 with 1 Axes>"
            ],
            "image/png": "[encoded data removed]"
          },
          "metadata": {
            "needs_background": "light"
          }
        }
      ]
    },
    {
      "cell_type": "code",
      "source": [
        "threshold"
      ],
      "metadata": {
        "colab": {
          "base_uri": "https://localhost:8080/"
        },
        "id": "NBS0i_ElzyT4",
        "outputId": "2a03e53b-4296-4317-cec7-4676f47cf42d"
      },
      "execution_count": 96,
      "outputs": [
        {
          "output_type": "execute_result",
          "data": {
            "text/plain": [
              "array([2, 1, 0])"
            ]
          },
          "metadata": {},
          "execution_count": 96
        }
      ]
    },
    {
      "cell_type": "markdown",
      "source": [
        "#2. Multi Class"
      ],
      "metadata": {
        "id": "lj5_nXsYpC9h"
      }
    },
    {
      "cell_type": "code",
      "source": [
        "data = load_iris()\n",
        "data.keys()"
      ],
      "metadata": {
        "colab": {
          "base_uri": "https://localhost:8080/"
        },
        "id": "G_0zjT1gz-QC",
        "outputId": "2f317cb7-62fa-4f25-b743-476adb1846a3"
      },
      "execution_count": 12,
      "outputs": [
        {
          "output_type": "execute_result",
          "data": {
            "text/plain": [
              "dict_keys(['data', 'target', 'frame', 'target_names', 'DESCR', 'feature_names', 'filename', 'data_module'])"
            ]
          },
          "metadata": {},
          "execution_count": 12
        }
      ]
    },
    {
      "cell_type": "code",
      "source": [
        "feature = data.data\n",
        "label = data.target\n",
        "skfold = StratifiedKFold(n_splits = 3)\n",
        "clf = DecisionTreeClassifier()\n",
        "\n",
        "cv_accuracy=[]\n",
        "cv_micro_precision=[]\n",
        "cv_macro_precision=[]\n",
        "cv_weighted_precision=[]\n",
        "cv_micro_recall=[]\n",
        "cv_macro_recall=[]\n",
        "cv_weighted_recall=[]"
      ],
      "metadata": {
        "id": "s0QGvlXr0A7m"
      },
      "execution_count": 13,
      "outputs": []
    },
    {
      "cell_type": "code",
      "source": [
        "n_iter = 0\n",
        "\n",
        "for train_idx, test_idx in skfold.split(feature, label):\n",
        "    X_train, X_test = feature[train_idx], feature[test_idx]\n",
        "    y_train, y_test = label[train_idx], label[test_idx]\n",
        "\n",
        "    clf.fit(X_train, y_train)\n",
        "    y_pred = clf.predict(X_test)\n",
        "\n",
        "    n_iter += 1\n",
        "    accuracy = np.round(accuracy_score(y_test, y_pred), 3)\n",
        "    \n",
        "    precision_micro = np.round(precision_score(y_test, y_pred, average = 'micro'), 3)\n",
        "    precision_macro = np.round(precision_score(y_test, y_pred, average = 'macro'), 3)\n",
        "    precision_weighted = np.round(precision_score(y_test, y_pred, average = 'weighted'), 3)\n",
        "    \n",
        "    recall_micro = np.round(recall_score(y_test, y_pred, average = 'micro'), 3)\n",
        "    recall_macro = np.round(recall_score(y_test, y_pred, average = 'macro'), 3)\n",
        "    recall_weighted = np.round(recall_score(y_test, y_pred, average = 'weighted'), 3)\n",
        "\n",
        "    cv_accuracy.append(accuracy)\n",
        "    cv_micro_precision.append(precision_micro)\n",
        "    cv_macro_precision.append(precision_macro)\n",
        "    cv_weighted_precision.append(precision_weighted)\n",
        "    \n",
        "    cv_micro_recall.append(recall_micro)\n",
        "    cv_macro_recall.append(recall_macro)\n",
        "    cv_weighted_recall.append(recall_weighted)"
      ],
      "metadata": {
        "id": "c52ms9_n0Vw7"
      },
      "execution_count": 14,
      "outputs": []
    },
    {
      "cell_type": "code",
      "source": [
        "print('micro precision:', cv_micro_precision)\n",
        "print('macro precision:', cv_macro_precision)\n",
        "print('weighted precision:', cv_weighted_precision)"
      ],
      "metadata": {
        "colab": {
          "base_uri": "https://localhost:8080/"
        },
        "id": "YQibfHQb1ylI",
        "outputId": "3ea4996b-0af1-4980-b730-7ec4b058f4cf"
      },
      "execution_count": 15,
      "outputs": [
        {
          "output_type": "stream",
          "name": "stdout",
          "text": [
            "micro precision: [0.98, 0.94, 1.0]\n",
            "macro precision: [0.981, 0.941, 1.0]\n",
            "weighted precision: [0.981, 0.941, 1.0]\n"
          ]
        }
      ]
    },
    {
      "cell_type": "code",
      "source": [
        "print('micro recall:', cv_micro_recall)\n",
        "print('macro recall:', cv_macro_recall)\n",
        "print('weighted recall:', cv_weighted_recall)"
      ],
      "metadata": {
        "colab": {
          "base_uri": "https://localhost:8080/"
        },
        "id": "33hW8rWw2xDT",
        "outputId": "8790ea51-253c-4a08-984d-e67771ba0618"
      },
      "execution_count": 16,
      "outputs": [
        {
          "output_type": "stream",
          "name": "stdout",
          "text": [
            "micro recall: [0.98, 0.94, 1.0]\n",
            "macro recall: [0.979, 0.939, 1.0]\n",
            "weighted recall: [0.98, 0.94, 1.0]\n"
          ]
        }
      ]
    },
    {
      "cell_type": "markdown",
      "source": [
        "- micro average의 경우 모든 라벨에서의 TP, TN, FP, FN을 다 더한 total TP, TN, FP, FN을 이용하여 recall, precision을 계산한다.\n",
        "\n",
        "\n",
        "- macro average의 경우 라벨마다의 TP, TN, FP, FN을 이용해 라벨 개수 만큼의 recall, precision 계산하여 평균을 구한다.\n",
        "\n",
        "- weighted average의 경우 macro와 같이 각 라벨마다의 recall, precision을 계산하여 각 라벨마다의 데이터 수의 비율만큼을 가중치로 곱하여 평균을 계산한다. 예를 들어 0,1,2의 라벨이 있고 각각 20%, 30%, 50% 비율로 분포되어 있다면 각 라벨마다의 recall, precision score를 계산한 후 각각 0.2, 0.3, 0.5를 곱하여 더한다."
      ],
      "metadata": {
        "id": "PerDUdtS3vYQ"
      }
    },
    {
      "cell_type": "code",
      "source": [
        "X_train, X_test, y_train, y_test = train_test_split(feature, label, test_size=0.4, random_state=42)\n",
        "sclf = DecisionTreeClassifier(random_state=42)\n",
        "sclf.fit(X_train, y_train)\n",
        "y_pred = sclf.predict(X_test)"
      ],
      "metadata": {
        "id": "YXfPnnkL6G3q"
      },
      "execution_count": 40,
      "outputs": []
    },
    {
      "cell_type": "code",
      "source": [
        "aa = 0\n",
        "ab = 0\n",
        "ac = 0\n",
        "ba = 0\n",
        "bb = 0\n",
        "bc = 0\n",
        "ca = 0\n",
        "cb = 0\n",
        "cc = 0\n",
        "for i in range(len(y_test)):\n",
        "    if(y_test[i] == 0):\n",
        "        if(y_pred[i] == 0):\n",
        "            aa += 1\n",
        "        if(y_pred[i] == 1):\n",
        "            ab += 1\n",
        "        if(y_pred[i] == 2):\n",
        "            ac += 1\n",
        "    \n",
        "    if(y_test[i] == 1):\n",
        "        if(y_pred[i] == 0):\n",
        "            ba += 1\n",
        "        if(y_pred[i] == 1):\n",
        "            bb += 1\n",
        "        if(y_pred[i] == 2):\n",
        "            bc += 1\n",
        "\n",
        "    if(y_test[i] == 2):\n",
        "        if(y_pred[i] == 0):\n",
        "            ca += 1\n",
        "        if(y_pred[i] == 1):\n",
        "            cb += 1\n",
        "        if(y_pred[i] == 2):\n",
        "            cc += 1"
      ],
      "metadata": {
        "id": "HoLVyb5W6aXN"
      },
      "execution_count": 41,
      "outputs": []
    },
    {
      "cell_type": "code",
      "source": [
        "TP0 = aa\n",
        "TP1 = bb\n",
        "TP2 = cc\n",
        "\n",
        "FP0 = ba + ca\n",
        "FP1 = ab + cb\n",
        "FP2 = ac + bc\n",
        "\n",
        "FN0 = ab + ac\n",
        "FN1 = ba + bc\n",
        "FN2 = ca + cb\n",
        "\n",
        "TN0 = bb + bc + cb + cc\n",
        "TN1 = aa + ac + ca + cc\n",
        "TN2 = aa + ab + ba + bb"
      ],
      "metadata": {
        "id": "rNtenrxp7Udh"
      },
      "execution_count": 42,
      "outputs": []
    },
    {
      "cell_type": "code",
      "source": [
        "accuracy_score(y_pred, y_test)"
      ],
      "metadata": {
        "colab": {
          "base_uri": "https://localhost:8080/"
        },
        "id": "AiTLCyCe8d74",
        "outputId": "6870769e-16dd-4cc5-9421-500b59fb419c"
      },
      "execution_count": 43,
      "outputs": [
        {
          "output_type": "execute_result",
          "data": {
            "text/plain": [
              "0.9666666666666667"
            ]
          },
          "metadata": {},
          "execution_count": 43
        }
      ]
    },
    {
      "cell_type": "code",
      "source": [
        "S = aa + ab + ac + ba + bb + bc + ca + cb +cc\n",
        "TP_total = TP0 + TP1 + TP2\n",
        "print('accuracy_score: ',TP_total / S)"
      ],
      "metadata": {
        "colab": {
          "base_uri": "https://localhost:8080/"
        },
        "id": "j6MRNn5v8hRJ",
        "outputId": "5e2d3dcb-07c6-4577-8971-b1e3010cecf6"
      },
      "execution_count": 44,
      "outputs": [
        {
          "output_type": "stream",
          "name": "stdout",
          "text": [
            "accuracy_score:  0.9666666666666667\n"
          ]
        }
      ]
    },
    {
      "cell_type": "code",
      "source": [
        "print(\"micro_precision: \",precision_score(y_pred, y_test, average = 'micro'))\n",
        "print(\"micro_recall: \",recall_score(y_pred, y_test, average = 'micro'))"
      ],
      "metadata": {
        "colab": {
          "base_uri": "https://localhost:8080/"
        },
        "id": "KnY_HkbG81un",
        "outputId": "6ed59862-df56-4a97-a8c7-9b01e7d68d9b"
      },
      "execution_count": 45,
      "outputs": [
        {
          "output_type": "stream",
          "name": "stdout",
          "text": [
            "micro_precision:  0.9666666666666667\n",
            "micro_recall:  0.9666666666666667\n"
          ]
        }
      ]
    },
    {
      "cell_type": "code",
      "source": [
        "TN_total = TN0 + TN1 + TN2\n",
        "FP_total = FP0 + FN1 + FN2\n",
        "FN_total = FN0 + FN1 + FN2\n",
        "micro_precision = TP_total / (TP_total + FP_total)\n",
        "micro_recall = TP_total / (TP_total + FN_total)\n",
        "print(\"micro_precision: \",micro_precision)\n",
        "print(\"micro_recall: \",micro_recall)"
      ],
      "metadata": {
        "colab": {
          "base_uri": "https://localhost:8080/"
        },
        "id": "d_Ol_Nl59d4M",
        "outputId": "37620c17-0290-4e97-e058-f019f4de21a3"
      },
      "execution_count": 46,
      "outputs": [
        {
          "output_type": "stream",
          "name": "stdout",
          "text": [
            "micro_precision:  0.9666666666666667\n",
            "micro_recall:  0.9666666666666667\n"
          ]
        }
      ]
    },
    {
      "cell_type": "code",
      "source": [
        "print(\"macro_precision: \",precision_score(y_pred, y_test, average = 'macro'))\n",
        "print(\"macro_recall: \",recall_score(y_pred, y_test, average = 'macro'))"
      ],
      "metadata": {
        "colab": {
          "base_uri": "https://localhost:8080/"
        },
        "id": "X-ejqN4b-1Fn",
        "outputId": "5c3cab94-fba3-433b-8f89-720a439e3585"
      },
      "execution_count": 47,
      "outputs": [
        {
          "output_type": "stream",
          "name": "stdout",
          "text": [
            "macro_precision:  0.9639376218323585\n",
            "macro_recall:  0.9639376218323585\n"
          ]
        }
      ]
    },
    {
      "cell_type": "code",
      "source": [
        "precision0 = TP0 / (TP0 + FP0)\n",
        "precision1 = TP1 / (TP1 + FP1)\n",
        "precision2 = TP2 / (TP2 + FP2)\n",
        "recall0 = TP0 / (TP0 + FN0)\n",
        "recall1 = TP1 / (TP1 + FN1)\n",
        "recall2 = TP2 / (TP2 + FN2)\n",
        "\n",
        "macro_precision = np.mean([precision0, precision1, precision2])\n",
        "macro_recall = np.mean([recall0, recall1, recall2])\n",
        "print(\"macro_precision: \",macro_precision)\n",
        "print(\"macro_recall: \",macro_recall)"
      ],
      "metadata": {
        "colab": {
          "base_uri": "https://localhost:8080/"
        },
        "id": "Muz-tZcC-8iw",
        "outputId": "bcbb7110-d7a8-431f-ac36-0d3f209b5e53"
      },
      "execution_count": 48,
      "outputs": [
        {
          "output_type": "stream",
          "name": "stdout",
          "text": [
            "macro_precision:  0.9639376218323585\n",
            "macro_recall:  0.9639376218323585\n"
          ]
        }
      ]
    },
    {
      "cell_type": "code",
      "source": [
        "print(\"weighted_precision: \",precision_score(y_pred, y_test, average = 'weighted'))\n",
        "print(\"weighted_recall: \",recall_score(y_pred, y_test, average = 'weighted'))"
      ],
      "metadata": {
        "colab": {
          "base_uri": "https://localhost:8080/"
        },
        "id": "YmtoW1OSABiD",
        "outputId": "6b3c0ab6-2209-403d-92f2-ca88c5d47feb"
      },
      "execution_count": 51,
      "outputs": [
        {
          "output_type": "stream",
          "name": "stdout",
          "text": [
            "weighted_precision:  0.9666666666666667\n",
            "weighted_recall:  0.9666666666666667\n"
          ]
        }
      ]
    },
    {
      "cell_type": "code",
      "source": [
        "p0 = (aa + ab + ac)/S\n",
        "p1 = (ba + bb + bc)/S\n",
        "p2 = (ca + cb + cc)/S\n",
        "\n",
        "weighted_precision = p0*precision0 + p1*precision1 + p2*precision2\n",
        "weighted_recall = p0*recall0 + p1*recall1 + p2*recall2\n",
        "print(\"weighted_precision: \",weighted_precision)\n",
        "print(\"weighted_recall: \",weighted_recall)"
      ],
      "metadata": {
        "colab": {
          "base_uri": "https://localhost:8080/"
        },
        "id": "tUtEyjnf_ZzQ",
        "outputId": "d92464d9-bd65-45db-d2c4-b816430d3d55"
      },
      "execution_count": 50,
      "outputs": [
        {
          "output_type": "stream",
          "name": "stdout",
          "text": [
            "weighted_precision:  0.9666666666666667\n",
            "weighted_recall:  0.9666666666666667\n"
          ]
        }
      ]
    }
  ]
}