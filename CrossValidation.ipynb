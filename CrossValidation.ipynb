{
  "nbformat": 4,
  "nbformat_minor": 0,
  "metadata": {
    "colab": {
      "provenance": [],
      "authorship_tag": "ABX9TyME497LGcYy2IhwYVyaUonE",
      "include_colab_link": true
    },
    "kernelspec": {
      "name": "python3",
      "display_name": "Python 3"
    },
    "language_info": {
      "name": "python"
    },
    "gpuClass": "standard"
  },
  "cells": [
    {
      "cell_type": "markdown",
      "metadata": {
        "id": "view-in-github",
        "colab_type": "text"
      },
      "source": [
        "<a href=\"https://colab.research.google.com/github/oymin2001/DataScience/blob/main/CrossValidation.ipynb\" target=\"_parent\"><img src=\"https://colab.research.google.com/assets/colab-badge.svg\" alt=\"Open In Colab\"/></a>"
      ]
    },
    {
      "cell_type": "code",
      "execution_count": null,
      "metadata": {
        "id": "FJO-09WwAv5G"
      },
      "outputs": [],
      "source": [
        "from sklearn.model_selection import KFold, StratifiedKFold, GroupKFold, StratifiedGroupKFold, ShuffleSplit, GroupShuffleSplit, StratifiedShuffleSplit, RepeatedKFold, LeaveOneOut, LeavePOut, LeaveOneGroupOut, LeavePGroupsOut, TimeSeriesSplit\n",
        "import numpy as np"
      ]
    },
    {
      "cell_type": "markdown",
      "source": [
        "# KFold\n",
        "\n",
        "데이터텟을 k개의 folds들로 나눠서 각 iter 마다 (k-1)개의 folds들을 학습한 후 나머지 fold를 test set으로 사용"
      ],
      "metadata": {
        "id": "ydfMoHooPn0f"
      }
    },
    {
      "cell_type": "code",
      "source": [
        "X = np.array(range(10))\n",
        "kf = KFold(n_splits=2)\n",
        "for i, (train, test) in enumerate(kf.split(X)):\n",
        "    print('Validation %s:'%i)\n",
        "    print('Train idx: %s, Test idx: %s'%(train, test))"
      ],
      "metadata": {
        "colab": {
          "base_uri": "https://localhost:8080/"
        },
        "id": "6NCcIfJsPLiA",
        "outputId": "7101083a-94e8-442e-ded0-21dce7d2eeda"
      },
      "execution_count": null,
      "outputs": [
        {
          "output_type": "stream",
          "name": "stdout",
          "text": [
            "Validation 0:\n",
            "Train idx: [5 6 7 8 9], Test idx: [0 1 2 3 4]\n",
            "Validation 1:\n",
            "Train idx: [0 1 2 3 4], Test idx: [5 6 7 8 9]\n"
          ]
        }
      ]
    },
    {
      "cell_type": "markdown",
      "source": [
        "# StratifiedKFold\n",
        "\n",
        "주로 분류문제에서 클래스 분포가 불균형할 경우 사용. 라벨 비율에 맞게 fold들을 분배"
      ],
      "metadata": {
        "id": "G3Z5yZXfRH2r"
      }
    },
    {
      "cell_type": "code",
      "source": [
        "label = np.array([0,0,0,0,0,0,0,0,1,1])\n",
        "skf = StratifiedKFold(n_splits=2)\n",
        "for i, (train, test) in enumerate(skf.split(X, label)):\n",
        "    print('Validation %s:'%i)\n",
        "    print('Train idx: %s, Test idx: %s'%(train, test))\n",
        "    print('Fold_train: ', label[train])\n",
        "    print('Fold_test: ', label[test])\n",
        "    print('==========================================')"
      ],
      "metadata": {
        "colab": {
          "base_uri": "https://localhost:8080/"
        },
        "id": "VmKD3lCuRHhm",
        "outputId": "4bb5d6c7-fbcf-4f23-ec93-b67fd6aa1602"
      },
      "execution_count": null,
      "outputs": [
        {
          "output_type": "stream",
          "name": "stdout",
          "text": [
            "Validation 0:\n",
            "Train idx: [4 5 6 7 9], Test idx: [0 1 2 3 8]\n",
            "Fold_train:  [0 0 0 0 1]\n",
            "Fold_test:  [0 0 0 0 1]\n",
            "==========================================\n",
            "Validation 1:\n",
            "Train idx: [0 1 2 3 8], Test idx: [4 5 6 7 9]\n",
            "Fold_train:  [0 0 0 0 1]\n",
            "Fold_test:  [0 0 0 0 1]\n",
            "==========================================\n"
          ]
        }
      ]
    },
    {
      "cell_type": "markdown",
      "source": [
        "# Repeated KFold\n",
        "\n",
        "n_repeats 파라미터를 이용하여 KFold를 여러번 반복할 수 있음"
      ],
      "metadata": {
        "id": "AjHre6aMLluV"
      }
    },
    {
      "cell_type": "code",
      "source": [
        "X = np.array(range(6))\n",
        "rkf = RepeatedKFold(n_splits=2, n_repeats=4, random_state=42)\n",
        "cnt = 1\n",
        "for train ,test in rkf.split(X):\n",
        "    print('train: %s, test: %s'%(train, test))\n",
        "    if cnt % 2 ==0:\n",
        "        print('================repeated============')\n",
        "    cnt+=1"
      ],
      "metadata": {
        "colab": {
          "base_uri": "https://localhost:8080/"
        },
        "id": "f1WSuW_qLmDB",
        "outputId": "c94c97e5-76a7-47cc-8638-29e4caa8c54d"
      },
      "execution_count": null,
      "outputs": [
        {
          "output_type": "stream",
          "name": "stdout",
          "text": [
            "train: [2 3 4], test: [0 1 5]\n",
            "train: [0 1 5], test: [2 3 4]\n",
            "================repeated============\n",
            "train: [2 4 5], test: [0 1 3]\n",
            "train: [0 1 3], test: [2 4 5]\n",
            "================repeated============\n",
            "train: [2 3 5], test: [0 1 4]\n",
            "train: [0 1 4], test: [2 3 5]\n",
            "================repeated============\n",
            "train: [1 2 4], test: [0 3 5]\n",
            "train: [0 3 5], test: [1 2 4]\n",
            "================repeated============\n"
          ]
        }
      ]
    },
    {
      "cell_type": "markdown",
      "source": [
        "# GruopedKFold\n",
        "\n",
        "그룹화되있는 데이터가 있을 경우\n",
        "\n",
        "iter마다 검증시에 같은 그룹이 train data이면서 동시에 test data가 되는걸 방지"
      ],
      "metadata": {
        "id": "9mKNNn8PBxGg"
      }
    },
    {
      "cell_type": "code",
      "source": [
        "X = [0.1, 0.2, 2.2, 2.4, 2.3, 4.55, 5.8, 8.8, 9, 10]\n",
        "y = [\"a\", \"b\", \"b\", \"b\", \"c\", \"c\", \"c\", \"d\", \"d\", \"d\"]\n",
        "groups = [1, 1, 1, 2, 2, 2, 3, 3, 3, 3]\n",
        "\n",
        "gkf = GroupKFold(n_splits=3)\n",
        "gkf.get_n_splits(X,y,groups)"
      ],
      "metadata": {
        "colab": {
          "base_uri": "https://localhost:8080/"
        },
        "id": "YMVe1iwnBwJh",
        "outputId": "bc55d5c8-f872-4fd5-ed37-9db59fd54fa5"
      },
      "execution_count": null,
      "outputs": [
        {
          "output_type": "execute_result",
          "data": {
            "text/plain": [
              "3"
            ]
          },
          "metadata": {},
          "execution_count": 41
        }
      ]
    },
    {
      "cell_type": "markdown",
      "source": [
        "- Group1 idx = 0:2\n",
        "- Group2 idx = 3:5\n",
        "- Gruop3 idx = 6:9"
      ],
      "metadata": {
        "id": "6agEZALHOzjT"
      }
    },
    {
      "cell_type": "code",
      "source": [
        "for idx, (train, test) in enumerate(gkf.split(X,y,groups)):\n",
        "    print('Fold %s:'%idx)\n",
        "    print(\"Train index %s, Test indes: %s: \"%(train,test))"
      ],
      "metadata": {
        "colab": {
          "base_uri": "https://localhost:8080/"
        },
        "id": "j3wX8faPCEar",
        "outputId": "e061080e-6bf7-4461-a117-86308a2bcdc7"
      },
      "execution_count": null,
      "outputs": [
        {
          "output_type": "stream",
          "name": "stdout",
          "text": [
            "Fold 0:\n",
            "Train index [0 1 2 3 4 5], Test indes: [6 7 8 9]: \n",
            "Fold 1:\n",
            "Train index [0 1 2 6 7 8 9], Test indes: [3 4 5]: \n",
            "Fold 2:\n",
            "Train index [3 4 5 6 7 8 9], Test indes: [0 1 2]: \n"
          ]
        }
      ]
    },
    {
      "cell_type": "code",
      "source": [
        "gskf = StratifiedGroupKFold(n_splits=3)\n",
        "y = np.array([0,0,1,0,0,1,0,0,1,0]) # 0:1 = 7:3\n",
        "print(\"Datasets prop:\", (len(y[y==1]) / len(y)))\n",
        "groups = np.array(groups)\n",
        "for idx, (train, test) in enumerate(gskf.split(X,y,groups)):\n",
        "    print('Fold %s:'%idx)\n",
        "    y_train = y[train]\n",
        "    prop = len(y_train[y_train == 1]) / len(y_train)\n",
        "    print('Train Group: %s, Test Group: %s'%(groups[train], groups[test]))\n",
        "    print(\"train %s prop: %s\"%(idx, np.round(prop,2)))\n",
        "    print('====================================================')"
      ],
      "metadata": {
        "colab": {
          "base_uri": "https://localhost:8080/"
        },
        "id": "COUVnj55UzIP",
        "outputId": "058d9e08-7300-44e3-ea27-b36deebf3339"
      },
      "execution_count": null,
      "outputs": [
        {
          "output_type": "stream",
          "name": "stdout",
          "text": [
            "Datasets prop: 0.3\n",
            "Fold 0:\n",
            "Train Group: [1 1 1 2 2 2], Test Group: [3 3 3 3]\n",
            "train 0 prop: 0.33\n",
            "====================================================\n",
            "Fold 1:\n",
            "Train Group: [1 1 1 3 3 3 3], Test Group: [2 2 2]\n",
            "train 1 prop: 0.29\n",
            "====================================================\n",
            "Fold 2:\n",
            "Train Group: [2 2 2 3 3 3 3], Test Group: [1 1 1]\n",
            "train 2 prop: 0.29\n",
            "====================================================\n"
          ]
        }
      ]
    },
    {
      "cell_type": "markdown",
      "source": [
        "StratifiedGroupKFold의 경우 검증시마다 train, test에 동일한 group이 없으며, 동시에  각 iter마다 라벨비율도 보존하여 fold를 분배"
      ],
      "metadata": {
        "id": "uqlgcg7-WHBz"
      }
    },
    {
      "cell_type": "markdown",
      "source": [
        "# Shuffle & Split\n",
        "\n",
        "KFold는 데이터를 K개의 fold로 나눈 후 train/ test set을 나눴지만, Shuffle & Split은 K개의 fold로 나누는 대신에, 각 iter마다 test set을 랜덤으로 추출한다."
      ],
      "metadata": {
        "id": "vsMi5iZGTYdI"
      }
    },
    {
      "cell_type": "code",
      "source": [
        "ss = ShuffleSplit(n_splits=5, test_size=0.25, random_state=42)\n",
        "for train, test in ss.split(X):\n",
        "    print(\"Train idx: %s, Test idx: %s\"%(train, test))"
      ],
      "metadata": {
        "colab": {
          "base_uri": "https://localhost:8080/"
        },
        "id": "-mtzKdE2CX39",
        "outputId": "e5dd02a0-70b2-4175-b5b1-30612e024c56"
      },
      "execution_count": null,
      "outputs": [
        {
          "output_type": "stream",
          "name": "stdout",
          "text": [
            "Train idx: [0 7 2 9 4 3 6], Test idx: [8 1 5]\n",
            "Train idx: [5 3 4 7 9 6 2], Test idx: [0 1 8]\n",
            "Train idx: [6 8 5 3 7 1 4], Test idx: [9 2 0]\n",
            "Train idx: [2 8 0 3 4 5 9], Test idx: [1 7 6]\n",
            "Train idx: [8 0 7 6 3 2 9], Test idx: [1 5 4]\n"
          ]
        }
      ]
    },
    {
      "cell_type": "code",
      "source": [
        "# GroupShuffleSplit: Shuffle&Split + LeavePGroupsOut\n",
        "X = [0.1, 0.2, 2.2, 2.4, 2.3, 4.55, 5.8, 8.8, 9, 10]\n",
        "y = [\"a\", \"b\", \"b\", \"b\", \"c\", \"c\", \"c\", \"d\", \"d\", \"d\"]\n",
        "groups = [1, 1, 1, 2, 2, 2, 3, 3, 3, 3]\n",
        "\n",
        "gss = GroupShuffleSplit(n_splits=4, test_size=0.3, random_state=42)\n",
        "\n",
        "for train, test in gss.split(X,y,groups=groups):\n",
        "    print(\"Train idx: %s, Test idx: %s\"%(train, test))"
      ],
      "metadata": {
        "colab": {
          "base_uri": "https://localhost:8080/"
        },
        "id": "XJndLApJUsbK",
        "outputId": "a6227815-8202-4593-9861-8ed5a4ef1802"
      },
      "execution_count": null,
      "outputs": [
        {
          "output_type": "stream",
          "name": "stdout",
          "text": [
            "Train idx: [3 4 5 6 7 8 9], Test idx: [0 1 2]\n",
            "Train idx: [0 1 2 6 7 8 9], Test idx: [3 4 5]\n",
            "Train idx: [3 4 5 6 7 8 9], Test idx: [0 1 2]\n",
            "Train idx: [0 1 2 6 7 8 9], Test idx: [3 4 5]\n"
          ]
        }
      ]
    },
    {
      "cell_type": "markdown",
      "source": [
        "# LeaveOneOut\n",
        "\n",
        "검증시마다 한개의 데이터만 test data로 사용. 데이터의 양이 적을경우 사용"
      ],
      "metadata": {
        "id": "VuUWWt9WgacI"
      }
    },
    {
      "cell_type": "code",
      "source": [
        "X = np.array(range(6))\n",
        "loo = LeaveOneOut()\n",
        "for train, test in loo.split(X):\n",
        "    print('train: %s, test: %s'%(train, test))"
      ],
      "metadata": {
        "colab": {
          "base_uri": "https://localhost:8080/"
        },
        "id": "9-6SD1vtHG9v",
        "outputId": "de683519-330c-4161-a73e-560e66a19a7c"
      },
      "execution_count": null,
      "outputs": [
        {
          "output_type": "stream",
          "name": "stdout",
          "text": [
            "train: [1 2 3 4 5], test: [0]\n",
            "train: [0 2 3 4 5], test: [1]\n",
            "train: [0 1 3 4 5], test: [2]\n",
            "train: [0 1 2 4 5], test: [3]\n",
            "train: [0 1 2 3 5], test: [4]\n",
            "train: [0 1 2 3 4], test: [5]\n"
          ]
        }
      ]
    },
    {
      "cell_type": "code",
      "source": [
        "#LeavePOut: P개의 데이터를 test data로 사용\n",
        "lpo = LeavePOut(p=2)\n",
        "for train, test in lpo.split(X):\n",
        "    print('train: %s, test: %s'%(train, test))"
      ],
      "metadata": {
        "colab": {
          "base_uri": "https://localhost:8080/"
        },
        "id": "niSS6Z2RHULH",
        "outputId": "72b68f01-893e-4f30-c235-fd465829674d"
      },
      "execution_count": null,
      "outputs": [
        {
          "output_type": "stream",
          "name": "stdout",
          "text": [
            "train: [2 3 4 5], test: [0 1]\n",
            "train: [1 3 4 5], test: [0 2]\n",
            "train: [1 2 4 5], test: [0 3]\n",
            "train: [1 2 3 5], test: [0 4]\n",
            "train: [1 2 3 4], test: [0 5]\n",
            "train: [0 3 4 5], test: [1 2]\n",
            "train: [0 2 4 5], test: [1 3]\n",
            "train: [0 2 3 5], test: [1 4]\n",
            "train: [0 2 3 4], test: [1 5]\n",
            "train: [0 1 4 5], test: [2 3]\n",
            "train: [0 1 3 5], test: [2 4]\n",
            "train: [0 1 3 4], test: [2 5]\n",
            "train: [0 1 2 5], test: [3 4]\n",
            "train: [0 1 2 4], test: [3 5]\n",
            "train: [0 1 2 3], test: [4 5]\n"
          ]
        }
      ]
    },
    {
      "cell_type": "code",
      "source": [
        "#LeaveOneGruopOut: 1개의 그룹을 test data로 사용\n",
        "groups = [1,1,2,2,3,3]\n",
        "logo = LeaveOneGroupOut()\n",
        "for train, test in logo.split(X,groups = groups):\n",
        "    print('train: %s, test: %s'%(train, test))"
      ],
      "metadata": {
        "colab": {
          "base_uri": "https://localhost:8080/"
        },
        "id": "4M4_69A9HxXM",
        "outputId": "b78963ec-66c0-4819-c04d-4f6e7bd75d5d"
      },
      "execution_count": null,
      "outputs": [
        {
          "output_type": "stream",
          "name": "stdout",
          "text": [
            "train: [2 3 4 5], test: [0 1]\n",
            "train: [0 1 4 5], test: [2 3]\n",
            "train: [0 1 2 3], test: [4 5]\n"
          ]
        }
      ]
    },
    {
      "cell_type": "code",
      "source": [
        "#LeavePGroupsOut: p개의 그룹을 test data로 사용\n",
        "lpgo = LeavePGroupsOut(n_groups=2)\n",
        "for train, test in lpgo.split(X,groups = groups):\n",
        "    print('train: %s, test: %s'%(train, test))"
      ],
      "metadata": {
        "colab": {
          "base_uri": "https://localhost:8080/"
        },
        "id": "ZOUYVCDaIRX6",
        "outputId": "57f78768-49ff-444f-a45d-67075b920579"
      },
      "execution_count": null,
      "outputs": [
        {
          "output_type": "stream",
          "name": "stdout",
          "text": [
            "train: [4 5], test: [0 1 2 3]\n",
            "train: [2 3], test: [0 1 4 5]\n",
            "train: [0 1], test: [2 3 4 5]\n"
          ]
        }
      ]
    },
    {
      "cell_type": "markdown",
      "source": [
        "# **Time Series Split\n",
        "\n",
        "시계열 데이터를 교차검증시에 사용. \n",
        "\n",
        "**cross-validation on a rolling basis**\n",
        "\n",
        "\n",
        "iter = 1:\n",
        "\n",
        "첫 t개의 데이터를 train으로, (t + n)개까지의 데이터를 test 데이터로 사용\n",
        "\n",
        "iter = 2:\n",
        "\n",
        "(t + n)개의 데이터를 train으로, (t + 2n)개까지의 데이터를 test 데이터로 사용\n",
        "\n",
        "\n",
        "iter = k:\n",
        "\n",
        "(t + (k-1)n)개의 데이터를 train으로, (t + kn)개까지의 데이터를 test 데이터로 사용"
      ],
      "metadata": {
        "id": "2E259bm6PYuL"
      }
    },
    {
      "cell_type": "code",
      "source": [
        "X = np.array(range(8))\n",
        "tscv = TimeSeriesSplit(n_splits=3, test_size=2)\n",
        "for train, test in tscv.split(X):\n",
        "    print(\"%s %s\" % (train, test))"
      ],
      "metadata": {
        "colab": {
          "base_uri": "https://localhost:8080/"
        },
        "id": "GaPDBH8ER91A",
        "outputId": "411e8a12-fdfd-4c01-9a26-26b485749124"
      },
      "execution_count": null,
      "outputs": [
        {
          "output_type": "stream",
          "name": "stdout",
          "text": [
            "[0 1] [2 3]\n",
            "[0 1 2 3] [4 5]\n",
            "[0 1 2 3 4 5] [6 7]\n"
          ]
        }
      ]
    }
  ]
}